{
 "cells": [
  {
   "cell_type": "code",
   "execution_count": 1,
   "id": "afb0e854",
   "metadata": {},
   "outputs": [],
   "source": [
    "import csv\n",
    "import requests\n",
    "import xml.etree.ElementTree as ET\n",
    "import os\n",
    "import json"
   ]
  },
  {
   "cell_type": "code",
   "execution_count": 9,
   "id": "436965a3",
   "metadata": {},
   "outputs": [],
   "source": [
    "def parseXML(xmlfile, filename, new_path, folder):\n",
    "    #removes tags and copies text to txt file\n",
    "    tree = ET.parse(\"Course_Material/\" + folder + xmlfile)\n",
    "    root = tree.getroot()\n",
    "    \n",
    "    text = \"\"\n",
    "    \n",
    "    for elem in tree.iter(tag = None):\n",
    "        text += elem.text + \"\\n\" if elem.text else \"\"\n",
    "    \n",
    "    #creates txt file with text\n",
    "    toFile(text, filename, new_path)\n",
    "\n",
    "def toFile(text, filename, path):\n",
    "    with open(path + filename + '.txt', 'w') as file:\n",
    "        file.write(text)\n",
    "        \n",
    "def parseJSON(jsonfile, filename, new_path, folder):\n",
    "    file = open(\"Course_Material/\" + folder + jsonfile)\n",
    "    data = json.load(file)\n",
    "    \n",
    "    text = \"\"\n",
    "    \n",
    "    for i in data[\"text\"]:\n",
    "        text+=i + \"\\n\"\n",
    "    \n",
    "    toFile(text, filename, new_path)"
   ]
  },
  {
   "cell_type": "code",
   "execution_count": 10,
   "id": "ed719eb2",
   "metadata": {},
   "outputs": [],
   "source": [
    "#parsing problem XML files\n",
    "directory = \"/Users/cathy/Downloads/School/UROP/Course_Material/problem\"\n",
    "for file in os.listdir(directory):\n",
    "    parseXML(file, os.path.splitext(file)[0], 'Course_Material/problem_txt/', \"problem/\")"
   ]
  },
  {
   "cell_type": "code",
   "execution_count": 11,
   "id": "b85cc5d1",
   "metadata": {},
   "outputs": [],
   "source": [
    "#parsing html XML files\n",
    "directory = \"/Users/cathy/Downloads/School/UROP/Course_Material/html\"\n",
    "for file in os.listdir(directory):\n",
    "    if os.path.splitext(file)[1]==\".xml\":\n",
    "        parseXML(file, os.path.splitext(file)[0], 'Course_Material/html_txt/', \"html/\")"
   ]
  },
  {
   "cell_type": "code",
   "execution_count": 12,
   "id": "740c67fe",
   "metadata": {},
   "outputs": [],
   "source": [
    "#parsing video transcript files\n",
    "directory = \"/Users/cathy/Downloads/School/UROP/Course_Material/static\"\n",
    "for file in os.listdir(directory):\n",
    "    if os.path.splitext(file)[1]==\".sjson\":\n",
    "        parseJSON(file, os.path.splitext(file)[0], 'Course_Material/transcripts_txt/', \"static/\")"
   ]
  },
  {
   "cell_type": "code",
   "execution_count": null,
   "id": "f0a86c14",
   "metadata": {},
   "outputs": [],
   "source": []
  }
 ],
 "metadata": {
  "kernelspec": {
   "display_name": "Python 3 (ipykernel)",
   "language": "python",
   "name": "python3"
  },
  "language_info": {
   "codemirror_mode": {
    "name": "ipython",
    "version": 3
   },
   "file_extension": ".py",
   "mimetype": "text/x-python",
   "name": "python",
   "nbconvert_exporter": "python",
   "pygments_lexer": "ipython3",
   "version": "3.8.7"
  }
 },
 "nbformat": 4,
 "nbformat_minor": 5
}
